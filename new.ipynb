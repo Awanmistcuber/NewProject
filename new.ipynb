{
 "cells": [
  {
   "cell_type": "code",
   "execution_count": 2,
   "id": "ada96d05",
   "metadata": {},
   "outputs": [],
   "source": [
    "name = 'dronacharya group of institution'"
   ]
  },
  {
   "cell_type": "code",
   "execution_count": 3,
   "id": "0505065e",
   "metadata": {},
   "outputs": [
    {
     "name": "stdout",
     "output_type": "stream",
     "text": [
      "fine group of institution\n"
     ]
    }
   ],
   "source": [
    "print(name.replace('dronacharya', 'fine'))"
   ]
  },
  {
   "cell_type": "code",
   "execution_count": 4,
   "id": "7d7f62be",
   "metadata": {},
   "outputs": [
    {
     "name": "stdout",
     "output_type": "stream",
     "text": [
      "True\n"
     ]
    }
   ],
   "source": [
    "print('charya' in name)"
   ]
  },
  {
   "cell_type": "code",
   "execution_count": 6,
   "id": "eeef3ed5",
   "metadata": {},
   "outputs": [
    {
     "name": "stdout",
     "output_type": "stream",
     "text": [
      "False\n"
     ]
    }
   ],
   "source": [
    "print('xyz' in name)"
   ]
  },
  {
   "cell_type": "code",
   "execution_count": 7,
   "id": "f9a383b9",
   "metadata": {},
   "outputs": [
    {
     "data": {
      "text/plain": [
       "3.3333333333333335"
      ]
     },
     "execution_count": 7,
     "metadata": {},
     "output_type": "execute_result"
    }
   ],
   "source": [
    "20/6"
   ]
  },
  {
   "cell_type": "code",
   "execution_count": 8,
   "id": "35128c53",
   "metadata": {},
   "outputs": [
    {
     "data": {
      "text/plain": [
       "3"
      ]
     },
     "execution_count": 8,
     "metadata": {},
     "output_type": "execute_result"
    }
   ],
   "source": [
    "20//6"
   ]
  },
  {
   "cell_type": "code",
   "execution_count": 9,
   "id": "8c4ca314",
   "metadata": {},
   "outputs": [],
   "source": [
    "import math\n"
   ]
  },
  {
   "cell_type": "code",
   "execution_count": 10,
   "id": "87469b45",
   "metadata": {},
   "outputs": [
    {
     "name": "stdout",
     "output_type": "stream",
     "text": [
      "1000\n"
     ]
    }
   ],
   "source": [
    "print(pow(10, 3))"
   ]
  },
  {
   "cell_type": "code",
   "execution_count": 11,
   "id": "f0c6b417",
   "metadata": {},
   "outputs": [],
   "source": [
    "is_hot = True"
   ]
  },
  {
   "cell_type": "code",
   "execution_count": 17,
   "id": "e310a244",
   "metadata": {},
   "outputs": [],
   "source": [
    "is_cold = True"
   ]
  },
  {
   "cell_type": "code",
   "execution_count": 15,
   "id": "4a5d6cff",
   "metadata": {},
   "outputs": [
    {
     "name": "stdout",
     "output_type": "stream",
     "text": [
      "It's a hot day\n",
      "Nice day\n"
     ]
    }
   ],
   "source": [
    "if is_hot:\n",
    "    print(\"It's a hot day\")\n",
    "    print('Nice day')"
   ]
  },
  {
   "cell_type": "code",
   "execution_count": 19,
   "id": "d9151ad9",
   "metadata": {},
   "outputs": [
    {
     "name": "stdout",
     "output_type": "stream",
     "text": [
      "It's a hot day\n"
     ]
    }
   ],
   "source": [
    "if is_hot:\n",
    "    print(\"It's a hot day\")\n",
    "elif is_cold:\n",
    "    print(\"It's a cold day\")\n",
    "else:\n",
    "    print(\"It's a nice day\")"
   ]
  },
  {
   "cell_type": "code",
   "execution_count": null,
   "id": "fdd0313a",
   "metadata": {},
   "outputs": [],
   "source": []
  }
 ],
 "metadata": {
  "kernelspec": {
   "display_name": "Python 3 (ipykernel)",
   "language": "python",
   "name": "python3"
  },
  "language_info": {
   "codemirror_mode": {
    "name": "ipython",
    "version": 3
   },
   "file_extension": ".py",
   "mimetype": "text/x-python",
   "name": "python",
   "nbconvert_exporter": "python",
   "pygments_lexer": "ipython3",
   "version": "3.9.7"
  }
 },
 "nbformat": 4,
 "nbformat_minor": 5
}
